{
 "cells": [
  {
   "cell_type": "code",
   "execution_count": 1,
   "id": "artificial-nepal",
   "metadata": {},
   "outputs": [],
   "source": [
    "import pandas as pd\n",
    "import numpy as np\n",
    "\n",
    "from gtda.homology import CubicalPersistence\n",
    "\n",
    "from gtda.diagrams import Amplitude\n",
    "from gtda.diagrams import PersistenceEntropy\n",
    "from gtda.diagrams import PersistenceLandscape\n",
    "from gtda.diagrams import NumberOfPoints\n",
    "\n",
    "from gtda.images import Binarizer\n",
    "from gtda.images import RadialFiltration\n",
    "from gtda.images import HeightFiltration\n",
    "\n",
    "from sklearn.datasets import fetch_openml\n",
    "from sklearn.model_selection import train_test_split\n",
    "\n",
    "from datetime import datetime"
   ]
  },
  {
   "cell_type": "code",
   "execution_count": 2,
   "id": "tutorial-bullet",
   "metadata": {},
   "outputs": [
    {
     "name": "stdout",
     "output_type": "stream",
     "text": [
      "X shape: (70000, 784), y shape: (70000,)\n"
     ]
    }
   ],
   "source": [
    "X1, y1 = fetch_openml(\"mnist_784\", version=1, return_X_y=True)\n",
    "print(f\"X shape: {X1.shape}, y shape: {y1.shape}\")"
   ]
  },
  {
   "cell_type": "code",
   "execution_count": 3,
   "id": "stylish-aerospace",
   "metadata": {},
   "outputs": [
    {
     "name": "stdout",
     "output_type": "stream",
     "text": [
      "(70000, 28, 28) 3\n"
     ]
    }
   ],
   "source": [
    "X = pd.DataFrame.to_numpy(X1)\n",
    "\n",
    "# Reshape to (n_samples, n_pixels_x, n_pixels_y)\n",
    "X = X.reshape((-1, 28, 28))  # -1 means that first dimension as an unknown and we want numpy to figure it out\n",
    "print(X.shape, X.ndim)\n",
    "\n",
    "y = pd.Series.to_numpy(y1)\n"
   ]
  },
  {
   "cell_type": "code",
   "execution_count": 4,
   "id": "polyphonic-preserve",
   "metadata": {},
   "outputs": [
    {
     "name": "stdout",
     "output_type": "stream",
     "text": [
      "X_train shape: (10000, 28, 28), y_train shape: (10000,)\n",
      "X_test shape: (300, 28, 28), y_test shape: (300,)\n"
     ]
    }
   ],
   "source": [
    "# Select train and test data sets\n",
    "train_size, test_size = 10000, 300\n",
    "X_train, X_test, y_train, y_test = train_test_split(\n",
    "    X, y, train_size=train_size, test_size=test_size, stratify=y, random_state=666)\n",
    "\n",
    "print(f\"X_train shape: {X_train.shape}, y_train shape: {y_train.shape}\")\n",
    "print(f\"X_test shape: {X_test.shape}, y_test shape: {y_test.shape}\")\n"
   ]
  },
  {
   "cell_type": "code",
   "execution_count": 5,
   "id": "entitled-accounting",
   "metadata": {},
   "outputs": [],
   "source": [
    "# create array with features using persistence diagram:\n",
    "# Entropy, Amplitude, Number of points, multiple radial and height filtrations\n",
    "\n",
    "def process_data(im_data, center_lst, direction_lst):\n",
    "\n",
    "    im_features = np.array([])\n",
    "    \n",
    "    binarizer = Binarizer(threshold=0.4)\n",
    "    for filtr_center in center_lst:\n",
    "        radial_filtration = RadialFiltration(center=filtr_center)\n",
    "        cubical_persistence = CubicalPersistence(n_jobs=-1)\n",
    "        im_binarized = binarizer.fit_transform(im_data)\n",
    "        im_filtration = radial_filtration.fit_transform(im_binarized)\n",
    "        im_cubical = cubical_persistence.fit_transform(im_filtration)\n",
    "        im_pe = PersistenceEntropy().fit_transform(im_cubical)\n",
    "        im_num_of_points = NumberOfPoints().fit_transform(im_cubical)\n",
    "        im_ampl = Amplitude(metric='landscape').fit_transform(im_cubical)\n",
    "        \n",
    "        im_features = np.append(im_features , im_pe)\n",
    "        im_features = np.append(im_features , im_num_of_points)\n",
    "        im_features = np.append(im_features , im_ampl)\n",
    "\n",
    "    for filtr_dir in direction_lst:\n",
    "        height_filtration = HeightFiltration(direction=filtr_dir)\n",
    "        cubical_persistence = CubicalPersistence(n_jobs=-1)\n",
    "        im_binarized = binarizer.fit_transform(im_data)\n",
    "        im_filtration = height_filtration.fit_transform(im_binarized)\n",
    "        im_cubical = cubical_persistence.fit_transform(im_filtration)\n",
    "        im_pe = PersistenceEntropy().fit_transform(im_cubical)\n",
    "        im_num_of_points = NumberOfPoints().fit_transform(im_cubical)\n",
    "        im_ampl = Amplitude(metric='landscape').fit_transform(im_cubical)\n",
    "        \n",
    "        im_features = np.append(im_features , im_pe)\n",
    "        im_features = np.append(im_features , im_num_of_points)\n",
    "        im_features = np.append(im_features , im_ampl)\n",
    "        \n",
    "    return im_features\n"
   ]
  },
  {
   "cell_type": "code",
   "execution_count": 6,
   "id": "beneficial-modification",
   "metadata": {},
   "outputs": [
    {
     "name": "stdout",
     "output_type": "stream",
     "text": [
      "(10000, 102) (300, 102)\n",
      "(10000,) (300,)\n"
     ]
    }
   ],
   "source": [
    "direction_list = [np.array([1, 0]), np.array([1, 1]), np.array([0, 1]),\n",
    "                  np.array([-1, 1]), np.array([-1, 0]), np.array([-1, -1]), \n",
    "                  np.array([0, -1]), np.array([1, -1])]\n",
    "\n",
    "center_list = [np.array([6, 20]), np.array([20, 6]), np.array([13, 6]),\n",
    "               np.array([6, 13]), np.array([13, 13]), np.array([20, 13]),\n",
    "               np.array([13, 20]), np.array([6, 6]),  np.array([20, 20])]\n",
    "\n",
    "num_of_objects_train = X_train.shape[0]\n",
    "num_of_objects_test = X_test.shape[0]\n",
    "\n",
    "num_of_features = 6 * len(center_list) + 6 * len(direction_list)\n",
    "X_features_train = np.zeros((num_of_objects_train, num_of_features))\n",
    "X_features_test = np.zeros((num_of_objects_test, num_of_features))\n",
    "\n",
    "print(X_features_train.shape, X_features_test.shape)\n",
    "print(y_train.shape, y_test.shape)"
   ]
  },
  {
   "cell_type": "code",
   "execution_count": 7,
   "id": "expressed-cheat",
   "metadata": {},
   "outputs": [
    {
     "name": "stdout",
     "output_type": "stream",
     "text": [
      "start  2024-10-14 14:34:08.376231\n",
      "end    2024-10-14 15:28:56.603332\n"
     ]
    }
   ],
   "source": [
    "# create array with features for train data set\n",
    "\n",
    "print('start ', datetime.now())\n",
    "\n",
    "for i in range(num_of_objects_train):\n",
    "    im = X_train[i][None, :, :]\n",
    "    features = process_data(im, center_list, direction_list)\n",
    "    \n",
    "    X_features_train[i,:] = features\n",
    "    \n",
    "print('end   ', datetime.now())\n"
   ]
  },
  {
   "cell_type": "code",
   "execution_count": 8,
   "id": "cutting-muslim",
   "metadata": {},
   "outputs": [
    {
     "name": "stdout",
     "output_type": "stream",
     "text": [
      "start  2024-10-14 15:36:21.037997\n",
      "end    2024-10-14 15:37:31.005958\n"
     ]
    }
   ],
   "source": [
    "# create array with features for test data set\n",
    "\n",
    "print('start ', datetime.now())\n",
    "\n",
    "for i in range(num_of_objects_test):\n",
    "    im = X_test[i][None, :, :]\n",
    "    features = process_data(im, center_list, direction_list)\n",
    "        \n",
    "    X_features_test[i,:] = features\n",
    "    \n",
    "print('end   ', datetime.now())\n"
   ]
  },
  {
   "cell_type": "code",
   "execution_count": 9,
   "id": "alternative-premiere",
   "metadata": {},
   "outputs": [],
   "source": [
    "import tensorflow.keras\n",
    "\n",
    "from keras import models\n",
    "from keras import layers\n"
   ]
  },
  {
   "cell_type": "markdown",
   "id": "beautiful-contest",
   "metadata": {},
   "source": [
    "### Data standartization: mean=0, std=1"
   ]
  },
  {
   "cell_type": "code",
   "execution_count": 10,
   "id": "divine-cleveland",
   "metadata": {},
   "outputs": [],
   "source": [
    "mean = X_features_train.mean(axis=0)  #axis=0 calculate mean by each column, axis=1 - by rows\n",
    "X_features_train -= mean\n",
    "std = X_features_train.std(axis=0)\n",
    "X_features_train /= std\n",
    "\n",
    "X_features_test -= mean\n",
    "X_features_test /= std\n"
   ]
  },
  {
   "cell_type": "code",
   "execution_count": 11,
   "id": "featured-residence",
   "metadata": {},
   "outputs": [],
   "source": [
    "# take 500 samples in our training data to use as a validation set:\n",
    "\n",
    "X_features_val = X_features_train[:500]\n",
    "partial_X_features_train = X_features_train[500:]\n"
   ]
  },
  {
   "cell_type": "code",
   "execution_count": 12,
   "id": "continuing-glory",
   "metadata": {},
   "outputs": [],
   "source": [
    "def to_one_hot(labels, dimension=10):\n",
    "# array labels contains string elemnts, need to convert them into integers\n",
    "    labels_int = [int(numeric_string) for numeric_string in labels]\n",
    "    results = np.zeros((len(labels), dimension))\n",
    "\n",
    "    for i, label in enumerate(labels_int):\n",
    "        results[i, label] = 1.\n",
    "    return results\n"
   ]
  },
  {
   "cell_type": "code",
   "execution_count": 13,
   "id": "growing-sustainability",
   "metadata": {},
   "outputs": [],
   "source": [
    "# Vectorized training labels\n",
    "one_hot_y_train = to_one_hot(y_train)\n",
    "# Vectorized test labels\n",
    "one_hot_y_test = to_one_hot(y_test)\n",
    "\n",
    "one_hot_y_train_val = one_hot_y_train[:500]\n",
    "one_hot_y_train_partial = one_hot_y_train[500:]"
   ]
  },
  {
   "cell_type": "code",
   "execution_count": 14,
   "id": "protective-client",
   "metadata": {},
   "outputs": [
    {
     "name": "stdout",
     "output_type": "stream",
     "text": [
      "(10000, 10) (9500, 10) (500, 10) (300, 10)\n"
     ]
    }
   ],
   "source": [
    "print(one_hot_y_train.shape, one_hot_y_train_partial.shape, one_hot_y_train_val.shape, one_hot_y_test.shape)\n"
   ]
  },
  {
   "cell_type": "code",
   "execution_count": 36,
   "id": "medium-architect",
   "metadata": {},
   "outputs": [],
   "source": [
    "model = models.Sequential()\n",
    "model.add(layers.Dense(64, activation='relu', input_shape=(num_of_features,)))\n",
    "model.add(layers.Dense(64, activation='relu'))\n",
    "model.add(layers.Dense(10, activation='softmax'))\n"
   ]
  },
  {
   "cell_type": "code",
   "execution_count": 37,
   "id": "exterior-arabic",
   "metadata": {},
   "outputs": [
    {
     "data": {
      "text/html": [
       "<pre style=\"white-space:pre;overflow-x:auto;line-height:normal;font-family:Menlo,'DejaVu Sans Mono',consolas,'Courier New',monospace\"><span style=\"font-weight: bold\">Model: \"sequential_6\"</span>\n",
       "</pre>\n"
      ],
      "text/plain": [
       "\u001b[1mModel: \"sequential_6\"\u001b[0m\n"
      ]
     },
     "metadata": {},
     "output_type": "display_data"
    },
    {
     "data": {
      "text/html": [
       "<pre style=\"white-space:pre;overflow-x:auto;line-height:normal;font-family:Menlo,'DejaVu Sans Mono',consolas,'Courier New',monospace\">┏━━━━━━━━━━━━━━━━━━━━━━━━━━━━━━━━━━━━━━┳━━━━━━━━━━━━━━━━━━━━━━━━━━━━━┳━━━━━━━━━━━━━━━━━┓\n",
       "┃<span style=\"font-weight: bold\"> Layer (type)                         </span>┃<span style=\"font-weight: bold\"> Output Shape                </span>┃<span style=\"font-weight: bold\">         Param # </span>┃\n",
       "┡━━━━━━━━━━━━━━━━━━━━━━━━━━━━━━━━━━━━━━╇━━━━━━━━━━━━━━━━━━━━━━━━━━━━━╇━━━━━━━━━━━━━━━━━┩\n",
       "│ dense_19 (<span style=\"color: #0087ff; text-decoration-color: #0087ff\">Dense</span>)                     │ (<span style=\"color: #00d7ff; text-decoration-color: #00d7ff\">None</span>, <span style=\"color: #00af00; text-decoration-color: #00af00\">64</span>)                  │           <span style=\"color: #00af00; text-decoration-color: #00af00\">6,592</span> │\n",
       "├──────────────────────────────────────┼─────────────────────────────┼─────────────────┤\n",
       "│ dense_20 (<span style=\"color: #0087ff; text-decoration-color: #0087ff\">Dense</span>)                     │ (<span style=\"color: #00d7ff; text-decoration-color: #00d7ff\">None</span>, <span style=\"color: #00af00; text-decoration-color: #00af00\">64</span>)                  │           <span style=\"color: #00af00; text-decoration-color: #00af00\">4,160</span> │\n",
       "├──────────────────────────────────────┼─────────────────────────────┼─────────────────┤\n",
       "│ dense_21 (<span style=\"color: #0087ff; text-decoration-color: #0087ff\">Dense</span>)                     │ (<span style=\"color: #00d7ff; text-decoration-color: #00d7ff\">None</span>, <span style=\"color: #00af00; text-decoration-color: #00af00\">10</span>)                  │             <span style=\"color: #00af00; text-decoration-color: #00af00\">650</span> │\n",
       "└──────────────────────────────────────┴─────────────────────────────┴─────────────────┘\n",
       "</pre>\n"
      ],
      "text/plain": [
       "┏━━━━━━━━━━━━━━━━━━━━━━━━━━━━━━━━━━━━━━┳━━━━━━━━━━━━━━━━━━━━━━━━━━━━━┳━━━━━━━━━━━━━━━━━┓\n",
       "┃\u001b[1m \u001b[0m\u001b[1mLayer (type)                        \u001b[0m\u001b[1m \u001b[0m┃\u001b[1m \u001b[0m\u001b[1mOutput Shape               \u001b[0m\u001b[1m \u001b[0m┃\u001b[1m \u001b[0m\u001b[1m        Param #\u001b[0m\u001b[1m \u001b[0m┃\n",
       "┡━━━━━━━━━━━━━━━━━━━━━━━━━━━━━━━━━━━━━━╇━━━━━━━━━━━━━━━━━━━━━━━━━━━━━╇━━━━━━━━━━━━━━━━━┩\n",
       "│ dense_19 (\u001b[38;5;33mDense\u001b[0m)                     │ (\u001b[38;5;45mNone\u001b[0m, \u001b[38;5;34m64\u001b[0m)                  │           \u001b[38;5;34m6,592\u001b[0m │\n",
       "├──────────────────────────────────────┼─────────────────────────────┼─────────────────┤\n",
       "│ dense_20 (\u001b[38;5;33mDense\u001b[0m)                     │ (\u001b[38;5;45mNone\u001b[0m, \u001b[38;5;34m64\u001b[0m)                  │           \u001b[38;5;34m4,160\u001b[0m │\n",
       "├──────────────────────────────────────┼─────────────────────────────┼─────────────────┤\n",
       "│ dense_21 (\u001b[38;5;33mDense\u001b[0m)                     │ (\u001b[38;5;45mNone\u001b[0m, \u001b[38;5;34m10\u001b[0m)                  │             \u001b[38;5;34m650\u001b[0m │\n",
       "└──────────────────────────────────────┴─────────────────────────────┴─────────────────┘\n"
      ]
     },
     "metadata": {},
     "output_type": "display_data"
    },
    {
     "data": {
      "text/html": [
       "<pre style=\"white-space:pre;overflow-x:auto;line-height:normal;font-family:Menlo,'DejaVu Sans Mono',consolas,'Courier New',monospace\"><span style=\"font-weight: bold\"> Total params: </span><span style=\"color: #00af00; text-decoration-color: #00af00\">11,402</span> (44.54 KB)\n",
       "</pre>\n"
      ],
      "text/plain": [
       "\u001b[1m Total params: \u001b[0m\u001b[38;5;34m11,402\u001b[0m (44.54 KB)\n"
      ]
     },
     "metadata": {},
     "output_type": "display_data"
    },
    {
     "data": {
      "text/html": [
       "<pre style=\"white-space:pre;overflow-x:auto;line-height:normal;font-family:Menlo,'DejaVu Sans Mono',consolas,'Courier New',monospace\"><span style=\"font-weight: bold\"> Trainable params: </span><span style=\"color: #00af00; text-decoration-color: #00af00\">11,402</span> (44.54 KB)\n",
       "</pre>\n"
      ],
      "text/plain": [
       "\u001b[1m Trainable params: \u001b[0m\u001b[38;5;34m11,402\u001b[0m (44.54 KB)\n"
      ]
     },
     "metadata": {},
     "output_type": "display_data"
    },
    {
     "data": {
      "text/html": [
       "<pre style=\"white-space:pre;overflow-x:auto;line-height:normal;font-family:Menlo,'DejaVu Sans Mono',consolas,'Courier New',monospace\"><span style=\"font-weight: bold\"> Non-trainable params: </span><span style=\"color: #00af00; text-decoration-color: #00af00\">0</span> (0.00 B)\n",
       "</pre>\n"
      ],
      "text/plain": [
       "\u001b[1m Non-trainable params: \u001b[0m\u001b[38;5;34m0\u001b[0m (0.00 B)\n"
      ]
     },
     "metadata": {},
     "output_type": "display_data"
    },
    {
     "name": "stdout",
     "output_type": "stream",
     "text": [
      "None\n"
     ]
    }
   ],
   "source": [
    "model.compile(optimizer='rmsprop',\n",
    "              loss='categorical_crossentropy',\n",
    "              metrics=['accuracy'])\n",
    "\n",
    "print(model.summary())"
   ]
  },
  {
   "cell_type": "code",
   "execution_count": 38,
   "id": "cooperative-genome",
   "metadata": {},
   "outputs": [
    {
     "name": "stdout",
     "output_type": "stream",
     "text": [
      "Epoch 1/20\n",
      "\u001b[1m19/19\u001b[0m \u001b[32m━━━━━━━━━━━━━━━━━━━━\u001b[0m\u001b[37m\u001b[0m \u001b[1m1s\u001b[0m 13ms/step - accuracy: 0.3995 - loss: 1.8961 - val_accuracy: 0.7700 - val_loss: 0.9512\n",
      "Epoch 2/20\n",
      "\u001b[1m19/19\u001b[0m \u001b[32m━━━━━━━━━━━━━━━━━━━━\u001b[0m\u001b[37m\u001b[0m \u001b[1m0s\u001b[0m 3ms/step - accuracy: 0.7723 - loss: 0.9175 - val_accuracy: 0.8060 - val_loss: 0.6378\n",
      "Epoch 3/20\n",
      "\u001b[1m19/19\u001b[0m \u001b[32m━━━━━━━━━━━━━━━━━━━━\u001b[0m\u001b[37m\u001b[0m \u001b[1m0s\u001b[0m 4ms/step - accuracy: 0.8155 - loss: 0.6539 - val_accuracy: 0.8540 - val_loss: 0.5036\n",
      "Epoch 4/20\n",
      "\u001b[1m19/19\u001b[0m \u001b[32m━━━━━━━━━━━━━━━━━━━━\u001b[0m\u001b[37m\u001b[0m \u001b[1m0s\u001b[0m 3ms/step - accuracy: 0.8540 - loss: 0.5083 - val_accuracy: 0.8680 - val_loss: 0.4428\n",
      "Epoch 5/20\n",
      "\u001b[1m19/19\u001b[0m \u001b[32m━━━━━━━━━━━━━━━━━━━━\u001b[0m\u001b[37m\u001b[0m \u001b[1m0s\u001b[0m 4ms/step - accuracy: 0.8732 - loss: 0.4334 - val_accuracy: 0.8860 - val_loss: 0.3931\n",
      "Epoch 6/20\n",
      "\u001b[1m19/19\u001b[0m \u001b[32m━━━━━━━━━━━━━━━━━━━━\u001b[0m\u001b[37m\u001b[0m \u001b[1m0s\u001b[0m 3ms/step - accuracy: 0.8877 - loss: 0.3922 - val_accuracy: 0.8900 - val_loss: 0.3672\n",
      "Epoch 7/20\n",
      "\u001b[1m19/19\u001b[0m \u001b[32m━━━━━━━━━━━━━━━━━━━━\u001b[0m\u001b[37m\u001b[0m \u001b[1m0s\u001b[0m 4ms/step - accuracy: 0.8955 - loss: 0.3518 - val_accuracy: 0.8980 - val_loss: 0.3533\n",
      "Epoch 8/20\n",
      "\u001b[1m19/19\u001b[0m \u001b[32m━━━━━━━━━━━━━━━━━━━━\u001b[0m\u001b[37m\u001b[0m \u001b[1m0s\u001b[0m 3ms/step - accuracy: 0.9029 - loss: 0.3235 - val_accuracy: 0.8980 - val_loss: 0.3423\n",
      "Epoch 9/20\n",
      "\u001b[1m19/19\u001b[0m \u001b[32m━━━━━━━━━━━━━━━━━━━━\u001b[0m\u001b[37m\u001b[0m \u001b[1m0s\u001b[0m 4ms/step - accuracy: 0.9123 - loss: 0.3005 - val_accuracy: 0.9000 - val_loss: 0.3224\n",
      "Epoch 10/20\n",
      "\u001b[1m19/19\u001b[0m \u001b[32m━━━━━━━━━━━━━━━━━━━━\u001b[0m\u001b[37m\u001b[0m \u001b[1m0s\u001b[0m 4ms/step - accuracy: 0.9182 - loss: 0.2795 - val_accuracy: 0.9080 - val_loss: 0.3094\n",
      "Epoch 11/20\n",
      "\u001b[1m19/19\u001b[0m \u001b[32m━━━━━━━━━━━━━━━━━━━━\u001b[0m\u001b[37m\u001b[0m \u001b[1m0s\u001b[0m 3ms/step - accuracy: 0.9145 - loss: 0.2812 - val_accuracy: 0.9080 - val_loss: 0.2998\n",
      "Epoch 12/20\n",
      "\u001b[1m19/19\u001b[0m \u001b[32m━━━━━━━━━━━━━━━━━━━━\u001b[0m\u001b[37m\u001b[0m \u001b[1m0s\u001b[0m 4ms/step - accuracy: 0.9259 - loss: 0.2581 - val_accuracy: 0.9060 - val_loss: 0.2933\n",
      "Epoch 13/20\n",
      "\u001b[1m19/19\u001b[0m \u001b[32m━━━━━━━━━━━━━━━━━━━━\u001b[0m\u001b[37m\u001b[0m \u001b[1m0s\u001b[0m 4ms/step - accuracy: 0.9303 - loss: 0.2375 - val_accuracy: 0.9080 - val_loss: 0.2969\n",
      "Epoch 14/20\n",
      "\u001b[1m19/19\u001b[0m \u001b[32m━━━━━━━━━━━━━━━━━━━━\u001b[0m\u001b[37m\u001b[0m \u001b[1m0s\u001b[0m 3ms/step - accuracy: 0.9326 - loss: 0.2251 - val_accuracy: 0.9140 - val_loss: 0.2723\n",
      "Epoch 15/20\n",
      "\u001b[1m19/19\u001b[0m \u001b[32m━━━━━━━━━━━━━━━━━━━━\u001b[0m\u001b[37m\u001b[0m \u001b[1m0s\u001b[0m 4ms/step - accuracy: 0.9332 - loss: 0.2258 - val_accuracy: 0.9160 - val_loss: 0.2677\n",
      "Epoch 16/20\n",
      "\u001b[1m19/19\u001b[0m \u001b[32m━━━━━━━━━━━━━━━━━━━━\u001b[0m\u001b[37m\u001b[0m \u001b[1m0s\u001b[0m 3ms/step - accuracy: 0.9361 - loss: 0.2180 - val_accuracy: 0.9260 - val_loss: 0.2536\n",
      "Epoch 17/20\n",
      "\u001b[1m19/19\u001b[0m \u001b[32m━━━━━━━━━━━━━━━━━━━━\u001b[0m\u001b[37m\u001b[0m \u001b[1m0s\u001b[0m 4ms/step - accuracy: 0.9346 - loss: 0.2136 - val_accuracy: 0.9140 - val_loss: 0.2584\n",
      "Epoch 18/20\n",
      "\u001b[1m19/19\u001b[0m \u001b[32m━━━━━━━━━━━━━━━━━━━━\u001b[0m\u001b[37m\u001b[0m \u001b[1m0s\u001b[0m 4ms/step - accuracy: 0.9379 - loss: 0.2098 - val_accuracy: 0.9200 - val_loss: 0.2484\n",
      "Epoch 19/20\n",
      "\u001b[1m19/19\u001b[0m \u001b[32m━━━━━━━━━━━━━━━━━━━━\u001b[0m\u001b[37m\u001b[0m \u001b[1m0s\u001b[0m 4ms/step - accuracy: 0.9422 - loss: 0.1987 - val_accuracy: 0.9200 - val_loss: 0.2475\n",
      "Epoch 20/20\n",
      "\u001b[1m19/19\u001b[0m \u001b[32m━━━━━━━━━━━━━━━━━━━━\u001b[0m\u001b[37m\u001b[0m \u001b[1m0s\u001b[0m 4ms/step - accuracy: 0.9424 - loss: 0.1861 - val_accuracy: 0.9240 - val_loss: 0.2464\n"
     ]
    }
   ],
   "source": [
    "history = model.fit(partial_X_features_train,\n",
    "                    one_hot_y_train_partial,\n",
    "                    epochs=20,\n",
    "                    batch_size=512,\n",
    "                    validation_data=(X_features_val, one_hot_y_train_val))"
   ]
  },
  {
   "cell_type": "code",
   "execution_count": 39,
   "id": "hazardous-electricity",
   "metadata": {},
   "outputs": [
    {
     "data": {
      "image/png": "[encoded data removed]",
      "text/plain": [
       "<Figure size 432x288 with 1 Axes>"
      ]
     },
     "metadata": {
      "needs_background": "light"
     },
     "output_type": "display_data"
    }
   ],
   "source": [
    "import matplotlib.pyplot as plt\n",
    "%matplotlib inline\n",
    "\n",
    "loss = history.history['loss']\n",
    "val_loss = history.history['val_loss']\n",
    "\n",
    "epochs = range(1, len(loss) + 1)\n",
    "\n",
    "plt.plot(epochs, loss, 'bo', label='Training loss')\n",
    "plt.plot(epochs, val_loss, 'b', label='Validation loss')\n",
    "plt.title('Training and validation loss')\n",
    "plt.xlabel('Epochs')\n",
    "plt.ylabel('Loss')\n",
    "plt.legend()\n",
    "\n",
    "plt.show()"
   ]
  },
  {
   "cell_type": "code",
   "execution_count": 40,
   "id": "sweet-migration",
   "metadata": {},
   "outputs": [
    {
     "data": {
      "image/png": "[encoded data removed]",
      "text/plain": [
       "<Figure size 432x288 with 1 Axes>"
      ]
     },
     "metadata": {
      "needs_background": "light"
     },
     "output_type": "display_data"
    }
   ],
   "source": [
    "plt.clf()   # clear figure\n",
    "\n",
    "acc = history.history['accuracy']\n",
    "val_acc = history.history['val_accuracy']\n",
    "\n",
    "plt.plot(epochs, acc, 'bo', label='Training acc')\n",
    "plt.plot(epochs, val_acc, 'b', label='Validation acc')\n",
    "plt.title('Training and validation accuracy')\n",
    "plt.xlabel('Epochs')\n",
    "plt.ylabel('Loss')\n",
    "plt.legend()\n",
    "\n",
    "plt.show()"
   ]
  },
  {
   "cell_type": "markdown",
   "id": "reflected-result",
   "metadata": {},
   "source": [
    "### It seems that the network starts overfitting after 12 epochs. Let's train a new network from scratch for 12 epochs, then evaluate it on the test set."
   ]
  },
  {
   "cell_type": "code",
   "execution_count": 41,
   "id": "mobile-january",
   "metadata": {},
   "outputs": [
    {
     "name": "stdout",
     "output_type": "stream",
     "text": [
      "Epoch 1/12\n",
      "\u001b[1m19/19\u001b[0m \u001b[32m━━━━━━━━━━━━━━━━━━━━\u001b[0m\u001b[37m\u001b[0m \u001b[1m1s\u001b[0m 13ms/step - accuracy: 0.3990 - loss: 1.8267 - val_accuracy: 0.7660 - val_loss: 0.9724\n",
      "Epoch 2/12\n",
      "\u001b[1m19/19\u001b[0m \u001b[32m━━━━━━━━━━━━━━━━━━━━\u001b[0m\u001b[37m\u001b[0m \u001b[1m0s\u001b[0m 4ms/step - accuracy: 0.7601 - loss: 0.9479 - val_accuracy: 0.8140 - val_loss: 0.6827\n",
      "Epoch 3/12\n",
      "\u001b[1m19/19\u001b[0m \u001b[32m━━━━━━━━━━━━━━━━━━━━\u001b[0m\u001b[37m\u001b[0m \u001b[1m0s\u001b[0m 4ms/step - accuracy: 0.8168 - loss: 0.6708 - val_accuracy: 0.8440 - val_loss: 0.5483\n",
      "Epoch 4/12\n",
      "\u001b[1m19/19\u001b[0m \u001b[32m━━━━━━━━━━━━━━━━━━━━\u001b[0m\u001b[37m\u001b[0m \u001b[1m0s\u001b[0m 4ms/step - accuracy: 0.8390 - loss: 0.5546 - val_accuracy: 0.8580 - val_loss: 0.4745\n",
      "Epoch 5/12\n",
      "\u001b[1m19/19\u001b[0m \u001b[32m━━━━━━━━━━━━━━━━━━━━\u001b[0m\u001b[37m\u001b[0m \u001b[1m0s\u001b[0m 4ms/step - accuracy: 0.8599 - loss: 0.4737 - val_accuracy: 0.8740 - val_loss: 0.4190\n",
      "Epoch 6/12\n",
      "\u001b[1m19/19\u001b[0m \u001b[32m━━━━━━━━━━━━━━━━━━━━\u001b[0m\u001b[37m\u001b[0m \u001b[1m0s\u001b[0m 4ms/step - accuracy: 0.8757 - loss: 0.4205 - val_accuracy: 0.8860 - val_loss: 0.3793\n",
      "Epoch 7/12\n",
      "\u001b[1m19/19\u001b[0m \u001b[32m━━━━━━━━━━━━━━━━━━━━\u001b[0m\u001b[37m\u001b[0m \u001b[1m0s\u001b[0m 4ms/step - accuracy: 0.8871 - loss: 0.3772 - val_accuracy: 0.8920 - val_loss: 0.3639\n",
      "Epoch 8/12\n",
      "\u001b[1m19/19\u001b[0m \u001b[32m━━━━━━━━━━━━━━━━━━━━\u001b[0m\u001b[37m\u001b[0m \u001b[1m0s\u001b[0m 4ms/step - accuracy: 0.9013 - loss: 0.3352 - val_accuracy: 0.8880 - val_loss: 0.3451\n",
      "Epoch 9/12\n",
      "\u001b[1m19/19\u001b[0m \u001b[32m━━━━━━━━━━━━━━━━━━━━\u001b[0m\u001b[37m\u001b[0m \u001b[1m0s\u001b[0m 4ms/step - accuracy: 0.9076 - loss: 0.3112 - val_accuracy: 0.8960 - val_loss: 0.3373\n",
      "Epoch 10/12\n",
      "\u001b[1m19/19\u001b[0m \u001b[32m━━━━━━━━━━━━━━━━━━━━\u001b[0m\u001b[37m\u001b[0m \u001b[1m0s\u001b[0m 4ms/step - accuracy: 0.9093 - loss: 0.3049 - val_accuracy: 0.8920 - val_loss: 0.3361\n",
      "Epoch 11/12\n",
      "\u001b[1m19/19\u001b[0m \u001b[32m━━━━━━━━━━━━━━━━━━━━\u001b[0m\u001b[37m\u001b[0m \u001b[1m0s\u001b[0m 4ms/step - accuracy: 0.9150 - loss: 0.2858 - val_accuracy: 0.9000 - val_loss: 0.3122\n",
      "Epoch 12/12\n",
      "\u001b[1m19/19\u001b[0m \u001b[32m━━━━━━━━━━━━━━━━━━━━\u001b[0m\u001b[37m\u001b[0m \u001b[1m0s\u001b[0m 4ms/step - accuracy: 0.9250 - loss: 0.2625 - val_accuracy: 0.9120 - val_loss: 0.3057\n"
     ]
    },
    {
     "data": {
      "text/plain": [
       "<keras.src.callbacks.history.History at 0x1a0c0c41c10>"
      ]
     },
     "execution_count": 41,
     "metadata": {},
     "output_type": "execute_result"
    }
   ],
   "source": [
    "model = models.Sequential()\n",
    "model.add(layers.Dense(64, activation='relu', input_shape=(num_of_features,)))\n",
    "model.add(layers.Dense(64, activation='relu'))\n",
    "model.add(layers.Dense(10, activation='softmax'))\n",
    "\n",
    "model.compile(optimizer='rmsprop',\n",
    "              loss='categorical_crossentropy',\n",
    "              metrics=['accuracy'])\n",
    "\n",
    "model.fit(partial_X_features_train,\n",
    "          one_hot_y_train_partial,\n",
    "          epochs=12,\n",
    "          batch_size=512,\n",
    "          validation_data=(X_features_val, one_hot_y_train_val))\n"
   ]
  },
  {
   "cell_type": "code",
   "execution_count": 42,
   "id": "simple-final",
   "metadata": {},
   "outputs": [
    {
     "name": "stdout",
     "output_type": "stream",
     "text": [
      "\u001b[1m10/10\u001b[0m \u001b[32m━━━━━━━━━━━━━━━━━━━━\u001b[0m\u001b[37m\u001b[0m \u001b[1m0s\u001b[0m 2ms/step - accuracy: 0.9212 - loss: 0.2966 \n"
     ]
    }
   ],
   "source": [
    "results = model.evaluate(X_features_test, one_hot_y_test)\n",
    "#print(results, type(results))"
   ]
  },
  {
   "cell_type": "markdown",
   "id": "varied-character",
   "metadata": {},
   "source": [
    "### Generating predictions on new data"
   ]
  },
  {
   "cell_type": "code",
   "execution_count": 43,
   "id": "vocational-ballet",
   "metadata": {},
   "outputs": [
    {
     "name": "stdout",
     "output_type": "stream",
     "text": [
      "\u001b[1m10/10\u001b[0m \u001b[32m━━━━━━━━━━━━━━━━━━━━\u001b[0m\u001b[37m\u001b[0m \u001b[1m0s\u001b[0m 5ms/step \n"
     ]
    }
   ],
   "source": [
    "predictions = model.predict(X_features_test)"
   ]
  },
  {
   "cell_type": "code",
   "execution_count": 44,
   "id": "amateur-spell",
   "metadata": {},
   "outputs": [
    {
     "name": "stdout",
     "output_type": "stream",
     "text": [
      "300 300\n"
     ]
    }
   ],
   "source": [
    "pred_cat = np.argmax(predictions, axis = 1)\n",
    "print(len(pred_cat), len(y_test))\n"
   ]
  },
  {
   "cell_type": "code",
   "execution_count": 45,
   "id": "centered-electric",
   "metadata": {},
   "outputs": [
    {
     "name": "stdout",
     "output_type": "stream",
     "text": [
      "15 9 4\n",
      "52 1 9\n",
      "55 7 2\n",
      "58 2 1\n",
      "60 8 2\n",
      "62 8 0\n",
      "66 6 8\n",
      "78 0 9\n",
      "90 8 6\n",
      "107 7 6\n",
      "115 8 2\n",
      "143 1 7\n",
      "144 2 7\n",
      "167 8 6\n",
      "195 9 8\n",
      "198 7 2\n",
      "211 6 0\n",
      "217 5 3\n",
      "235 7 2\n",
      "257 0 8\n",
      "258 7 3\n",
      "259 7 9\n",
      "264 6 0\n",
      "277 9 8\n",
      "287 3 5\n",
      "275 91.66666666666667\n"
     ]
    }
   ],
   "source": [
    "j=0\n",
    "for i in range(len(pred_cat)):\n",
    "   if pred_cat[i] == int(y_test[i]):\n",
    "    j +=1\n",
    "   else:\n",
    "    print(i, pred_cat[i], int(y_test[i]))\n",
    "\n",
    "print(j, j*100/len(pred_cat))\n"
   ]
  },
  {
   "cell_type": "code",
   "execution_count": null,
   "id": "noticed-approval",
   "metadata": {},
   "outputs": [],
   "source": []
  }
 ],
 "metadata": {
  "kernelspec": {
   "display_name": "Python 3",
   "language": "python",
   "name": "python3"
  },
  "language_info": {
   "codemirror_mode": {
    "name": "ipython",
    "version": 3
   },
   "file_extension": ".py",
   "mimetype": "text/x-python",
   "name": "python",
   "nbconvert_exporter": "python",
   "pygments_lexer": "ipython3",
   "version": "3.9.2"
  }
 },
 "nbformat": 4,
 "nbformat_minor": 5
}
