{
 "cells": [
  {
   "cell_type": "code",
   "execution_count": 1,
   "id": "artificial-nepal",
   "metadata": {},
   "outputs": [],
   "source": [
    "import pandas as pd\n",
    "import numpy as np\n",
    "\n",
    "from gtda.homology import CubicalPersistence\n",
    "\n",
    "from gtda.diagrams import Amplitude\n",
    "from gtda.diagrams import PersistenceEntropy\n",
    "from gtda.diagrams import PersistenceLandscape\n",
    "from gtda.diagrams import NumberOfPoints\n",
    "\n",
    "from gtda.images import Binarizer\n",
    "from gtda.images import RadialFiltration\n",
    "from gtda.images import HeightFiltration\n",
    "\n",
    "from sklearn.datasets import fetch_openml\n",
    "from sklearn.model_selection import train_test_split\n",
    "\n",
    "from sklearn.ensemble import RandomForestClassifier\n",
    "from sklearn.metrics import accuracy_score\n",
    "\n",
    "from datetime import datetime"
   ]
  },
  {
   "cell_type": "code",
   "execution_count": 2,
   "id": "tutorial-bullet",
   "metadata": {},
   "outputs": [
    {
     "name": "stdout",
     "output_type": "stream",
     "text": [
      "X shape: (70000, 784), y shape: (70000,)\n"
     ]
    }
   ],
   "source": [
    "X1, y1 = fetch_openml(\"mnist_784\", version=1, return_X_y=True)\n",
    "print(f\"X shape: {X1.shape}, y shape: {y1.shape}\")"
   ]
  },
  {
   "cell_type": "code",
   "execution_count": 3,
   "id": "stylish-aerospace",
   "metadata": {},
   "outputs": [
    {
     "name": "stdout",
     "output_type": "stream",
     "text": [
      "(70000, 28, 28) 3\n"
     ]
    }
   ],
   "source": [
    "X = pd.DataFrame.to_numpy(X1)\n",
    "\n",
    "# Reshape to (n_samples, n_pixels_x, n_pixels_y)\n",
    "X = X.reshape((-1, 28, 28))  # -1 means that first dimension as an unknown and we want numpy to figure it out\n",
    "print(X.shape, X.ndim)\n",
    "\n",
    "y = pd.Series.to_numpy(y1)\n"
   ]
  },
  {
   "cell_type": "code",
   "execution_count": 4,
   "id": "polyphonic-preserve",
   "metadata": {},
   "outputs": [
    {
     "name": "stdout",
     "output_type": "stream",
     "text": [
      "X_train shape: (10000, 28, 28), y_train shape: (10000,)\n",
      "X_test shape: (300, 28, 28), y_test shape: (300,)\n"
     ]
    }
   ],
   "source": [
    "# Select train and test data sets\n",
    "train_size, test_size = 10000, 300\n",
    "X_train, X_test, y_train, y_test = train_test_split(\n",
    "    X, y, train_size=train_size, test_size=test_size, stratify=y, random_state=666)\n",
    "\n",
    "print(f\"X_train shape: {X_train.shape}, y_train shape: {y_train.shape}\")\n",
    "print(f\"X_test shape: {X_test.shape}, y_test shape: {y_test.shape}\")\n"
   ]
  },
  {
   "cell_type": "code",
   "execution_count": 5,
   "id": "entitled-accounting",
   "metadata": {},
   "outputs": [],
   "source": [
    "# create array with features using persistence diagram:\n",
    "# Entropy, Amplitude, Number of points, multiple radial and height filtrations\n",
    "\n",
    "def process_data(im_data, center_lst, direction_lst):\n",
    "\n",
    "    im_features = np.array([])\n",
    "    \n",
    "    binarizer = Binarizer(threshold=0.4)\n",
    "    for filtr_center in center_lst:\n",
    "        radial_filtration = RadialFiltration(center=filtr_center)\n",
    "        cubical_persistence = CubicalPersistence(n_jobs=-1)\n",
    "        im_binarized = binarizer.fit_transform(im_data)\n",
    "        im_filtration = radial_filtration.fit_transform(im_binarized)\n",
    "        im_cubical = cubical_persistence.fit_transform(im_filtration)\n",
    "        im_pe = PersistenceEntropy().fit_transform(im_cubical)\n",
    "        im_num_of_points = NumberOfPoints().fit_transform(im_cubical)\n",
    "        im_ampl = Amplitude(metric='landscape').fit_transform(im_cubical)\n",
    "        \n",
    "        im_features = np.append(im_features , im_pe)\n",
    "        im_features = np.append(im_features , im_num_of_points)\n",
    "        im_features = np.append(im_features , im_ampl)\n",
    "\n",
    "    for filtr_dir in direction_lst:\n",
    "        height_filtration = HeightFiltration(direction=filtr_dir)\n",
    "        cubical_persistence = CubicalPersistence(n_jobs=-1)\n",
    "        im_binarized = binarizer.fit_transform(im_data)\n",
    "        im_filtration = height_filtration.fit_transform(im_binarized)\n",
    "        im_cubical = cubical_persistence.fit_transform(im_filtration)\n",
    "        im_pe = PersistenceEntropy().fit_transform(im_cubical)\n",
    "        im_num_of_points = NumberOfPoints().fit_transform(im_cubical)\n",
    "        im_ampl = Amplitude(metric='landscape').fit_transform(im_cubical)\n",
    "        \n",
    "        im_features = np.append(im_features , im_pe)\n",
    "        im_features = np.append(im_features , im_num_of_points)\n",
    "        im_features = np.append(im_features , im_ampl)\n",
    "    \n",
    "    return im_features\n"
   ]
  },
  {
   "cell_type": "code",
   "execution_count": 6,
   "id": "beneficial-modification",
   "metadata": {},
   "outputs": [
    {
     "name": "stdout",
     "output_type": "stream",
     "text": [
      "(10000, 102) (300, 102)\n",
      "(10000,) (300,)\n"
     ]
    }
   ],
   "source": [
    "direction_list = [np.array([1, 0]), np.array([1, 1]), np.array([0, 1]),\n",
    "                  np.array([-1, 1]), np.array([-1, 0]), np.array([-1, -1]), \n",
    "                  np.array([0, -1]), np.array([1, -1])]\n",
    "\n",
    "center_list = [np.array([6, 20]), np.array([20, 6]), np.array([13, 6]),\n",
    "               np.array([6, 13]), np.array([13, 13]), np.array([20, 13]),\n",
    "               np.array([13, 20]), np.array([6, 6]),  np.array([20, 20])]\n",
    "\n",
    "num_of_objects_train = X_train.shape[0]\n",
    "num_of_objects_test = X_test.shape[0]\n",
    "\n",
    "num_of_features = 6 * len(center_list) + 6 * len(direction_list)\n",
    "X_features_train = np.zeros((num_of_objects_train, num_of_features))\n",
    "X_features_test = np.zeros((num_of_objects_test, num_of_features))\n",
    "\n",
    "print(X_features_train.shape, X_features_test.shape)\n",
    "print(y_train.shape, y_test.shape)"
   ]
  },
  {
   "cell_type": "code",
   "execution_count": 7,
   "id": "expressed-cheat",
   "metadata": {},
   "outputs": [
    {
     "name": "stdout",
     "output_type": "stream",
     "text": [
      "start  2024-10-14 14:38:36.410812\n",
      "end    2024-10-14 15:33:03.972859\n"
     ]
    }
   ],
   "source": [
    "# create array with features for train data set\n",
    "\n",
    "print('start ', datetime.now())\n",
    "\n",
    "for i in range(num_of_objects_train):\n",
    "    im = X_train[i][None, :, :]\n",
    "    features = process_data(im, center_list, direction_list)\n",
    "        \n",
    "    X_features_train[i,:] = features\n",
    "    \n",
    "print('end   ', datetime.now())\n"
   ]
  },
  {
   "cell_type": "code",
   "execution_count": 8,
   "id": "dried-communication",
   "metadata": {},
   "outputs": [
    {
     "name": "stdout",
     "output_type": "stream",
     "text": [
      "start  2024-10-14 15:39:44.001303\n",
      "end    2024-10-14 15:40:54.007663\n"
     ]
    }
   ],
   "source": [
    "# create array with features for test data set\n",
    "\n",
    "print('start ', datetime.now())\n",
    "\n",
    "for i in range(num_of_objects_test):\n",
    "    im = X_test[i][None, :, :]\n",
    "    features = process_data(im, center_list, direction_list)\n",
    "        \n",
    "    X_features_test[i,:] = features\n",
    "    \n",
    "print('end   ', datetime.now())\n"
   ]
  },
  {
   "cell_type": "code",
   "execution_count": 9,
   "id": "stylish-freeware",
   "metadata": {},
   "outputs": [
    {
     "data": {
      "text/plain": [
       "RandomForestClassifier()"
      ]
     },
     "execution_count": 9,
     "metadata": {},
     "output_type": "execute_result"
    }
   ],
   "source": [
    "rf = RandomForestClassifier()\n",
    "rf.fit(X_features_train, y_train)\n"
   ]
  },
  {
   "cell_type": "code",
   "execution_count": 10,
   "id": "crazy-clause",
   "metadata": {},
   "outputs": [
    {
     "data": {
      "text/plain": [
       "0.96"
      ]
     },
     "execution_count": 10,
     "metadata": {},
     "output_type": "execute_result"
    }
   ],
   "source": [
    "y_pred = rf.predict(X_features_test)\n",
    "rf.score(X_features_test, y_test)\n"
   ]
  },
  {
   "cell_type": "code",
   "execution_count": 11,
   "id": "mobile-omaha",
   "metadata": {},
   "outputs": [
    {
     "name": "stdout",
     "output_type": "stream",
     "text": [
      "Accuracy: 0.96\n"
     ]
    }
   ],
   "source": [
    "accuracy = accuracy_score(y_test, y_pred)\n",
    "print(\"Accuracy:\", accuracy)"
   ]
  },
  {
   "cell_type": "code",
   "execution_count": 12,
   "id": "julian-stanford",
   "metadata": {},
   "outputs": [
    {
     "name": "stdout",
     "output_type": "stream",
     "text": [
      "300 300\n",
      "52 5 9\n",
      "58 2 1\n",
      "107 7 6\n",
      "115 8 2\n",
      "157 6 8\n",
      "195 9 8\n",
      "211 4 0\n",
      "232 3 0\n",
      "264 6 0\n",
      "277 9 8\n",
      "287 3 5\n",
      "294 4 6\n",
      "288 96.0\n"
     ]
    }
   ],
   "source": [
    "j=0\n",
    "print(len(y_pred), len(y_test))\n",
    "for i in range(len(y_pred)):\n",
    "   if y_pred[i] == y_test[i]:\n",
    "    j +=1\n",
    "   else:\n",
    "    print(i, y_pred[i], y_test[i])\n",
    "\n",
    "print(j, j*100/len(y_pred))\n"
   ]
  },
  {
   "cell_type": "code",
   "execution_count": null,
   "id": "hazardous-electricity",
   "metadata": {},
   "outputs": [],
   "source": []
  }
 ],
 "metadata": {
  "kernelspec": {
   "display_name": "Python 3",
   "language": "python",
   "name": "python3"
  },
  "language_info": {
   "codemirror_mode": {
    "name": "ipython",
    "version": 3
   },
   "file_extension": ".py",
   "mimetype": "text/x-python",
   "name": "python",
   "nbconvert_exporter": "python",
   "pygments_lexer": "ipython3",
   "version": "3.9.2"
  }
 },
 "nbformat": 4,
 "nbformat_minor": 5
}
